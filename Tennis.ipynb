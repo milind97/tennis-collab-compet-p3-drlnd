{
 "cells": [
  {
   "cell_type": "markdown",
   "metadata": {},
   "source": [
    "# Collaboration and Competition\n",
    "\n",
    "---\n",
    "\n",
    "You are welcome to use this coding environment to train your agent for the project.  Follow the instructions below to get started!\n",
    "\n",
    "### 1. Start the Environment\n",
    "\n",
    "Run the next code cell to install a few packages.  This line will take a few minutes to run!"
   ]
  },
  {
   "cell_type": "code",
   "execution_count": 1,
   "metadata": {},
   "outputs": [
    {
     "name": "stdout",
     "output_type": "stream",
     "text": [
      "\u001b[31mtensorflow 1.7.1 has requirement numpy>=1.13.3, but you'll have numpy 1.12.1 which is incompatible.\u001b[0m\r\n",
      "\u001b[31mipython 6.5.0 has requirement prompt-toolkit<2.0.0,>=1.0.15, but you'll have prompt-toolkit 3.0.30 which is incompatible.\u001b[0m\r\n",
      "\u001b[31mjupyter-console 6.4.3 has requirement jupyter-client>=7.0.0, but you'll have jupyter-client 5.2.4 which is incompatible.\u001b[0m\r\n"
     ]
    }
   ],
   "source": [
    "!pip -q install ./python"
   ]
  },
  {
   "cell_type": "markdown",
   "metadata": {},
   "source": [
    "The environment is already saved in the Workspace and can be accessed at the file path provided below. "
   ]
  },
  {
   "cell_type": "code",
   "execution_count": 9,
   "metadata": {},
   "outputs": [],
   "source": [
    "from collections import deque\n",
    "import torch\n",
    "import numpy as np\n",
    "from collections import deque\n",
    "import matplotlib.pyplot as plt\n",
    "%matplotlib inline"
   ]
  },
  {
   "cell_type": "code",
   "execution_count": 10,
   "metadata": {},
   "outputs": [
    {
     "name": "stdout",
     "output_type": "stream",
     "text": [
      "Cuda available using device 'cuda:0' \n"
     ]
    }
   ],
   "source": [
    "from src.tennis_agent import Agent\n",
    "\n",
    "%load_ext autoreload\n",
    "%autoreload 2"
   ]
  },
  {
   "cell_type": "code",
   "execution_count": 2,
   "metadata": {},
   "outputs": [
    {
     "name": "stderr",
     "output_type": "stream",
     "text": [
      "INFO:unityagents:\n",
      "'Academy' started successfully!\n",
      "Unity Academy name: Academy\n",
      "        Number of Brains: 1\n",
      "        Number of External Brains : 1\n",
      "        Lesson number : 0\n",
      "        Reset Parameters :\n",
      "\t\t\n",
      "Unity brain name: TennisBrain\n",
      "        Number of Visual Observations (per agent): 0\n",
      "        Vector Observation space type: continuous\n",
      "        Vector Observation space size (per agent): 8\n",
      "        Number of stacked Vector Observation: 3\n",
      "        Vector Action space type: continuous\n",
      "        Vector Action space size (per agent): 2\n",
      "        Vector Action descriptions: , \n"
     ]
    }
   ],
   "source": [
    "from unityagents import UnityEnvironment\n",
    "import numpy as np\n",
    "\n",
    "env = UnityEnvironment(file_name=\"/data/Tennis_Linux_NoVis/Tennis\")"
   ]
  },
  {
   "cell_type": "markdown",
   "metadata": {},
   "source": [
    "Environments contain **_brains_** which are responsible for deciding the actions of their associated agents. Here we check for the first brain available, and set it as the default brain we will be controlling from Python."
   ]
  },
  {
   "cell_type": "code",
   "execution_count": 3,
   "metadata": {},
   "outputs": [],
   "source": [
    "# get the default brain\n",
    "brain_name = env.brain_names[0]\n",
    "brain = env.brains[brain_name]"
   ]
  },
  {
   "cell_type": "markdown",
   "metadata": {},
   "source": [
    "### 2. Examine the State and Action Spaces\n",
    "\n",
    "Run the code cell below to print some information about the environment."
   ]
  },
  {
   "cell_type": "code",
   "execution_count": 4,
   "metadata": {},
   "outputs": [
    {
     "name": "stdout",
     "output_type": "stream",
     "text": [
      "Number of agents: 2\n",
      "Size of each action: 2\n",
      "There are 2 agents. Each observes a state with length: 24\n",
      "The state for the first agent looks like: [ 0.          0.          0.          0.          0.          0.          0.\n",
      "  0.          0.          0.          0.          0.          0.          0.\n",
      "  0.          0.         -6.65278625 -1.5        -0.          0.\n",
      "  6.83172083  6.         -0.          0.        ]\n"
     ]
    }
   ],
   "source": [
    "# reset the environment\n",
    "env_info = env.reset(train_mode=True)[brain_name]\n",
    "\n",
    "# number of agents \n",
    "num_agents = len(env_info.agents)\n",
    "print('Number of agents:', num_agents)\n",
    "\n",
    "# size of each action\n",
    "action_size = brain.vector_action_space_size\n",
    "print('Size of each action:', action_size)\n",
    "\n",
    "# examine the state space \n",
    "states = env_info.vector_observations\n",
    "state_size = states.shape[1]\n",
    "print('There are {} agents. Each observes a state with length: {}'.format(states.shape[0], state_size))\n",
    "print('The state for the first agent looks like:', states[0])"
   ]
  },
  {
   "cell_type": "markdown",
   "metadata": {},
   "source": [
    "### 3. Take Random Actions in the Environment\n",
    "\n",
    "In the next code cell, you will learn how to use the Python API to control the agent and receive feedback from the environment.\n",
    "\n",
    "Note that **in this coding environment, you will not be able to watch the agents while they are training**, and you should set `train_mode=True` to restart the environment."
   ]
  },
  {
   "cell_type": "code",
   "execution_count": 5,
   "metadata": {},
   "outputs": [],
   "source": [
    "# for i in range(5):                                         # play game for 5 episodes\n",
    "#     env_info = env.reset(train_mode=False)[brain_name]     # reset the environment    \n",
    "#     states = env_info.vector_observations                  # get the current state (for each agent)\n",
    "#     scores = np.zeros(num_agents)                          # initialize the score (for each agent)\n",
    "#     while True:\n",
    "#         actions = np.random.randn(num_agents, action_size) # select an action (for each agent)\n",
    "#         actions = np.clip(actions, -1, 1)                  # all actions between -1 and 1\n",
    "#         env_info = env.step(actions)[brain_name]           # send all actions to tne environment\n",
    "#         next_states = env_info.vector_observations         # get next state (for each agent)\n",
    "#         rewards = env_info.rewards                         # get reward (for each agent)\n",
    "#         dones = env_info.local_done                        # see if episode finished\n",
    "#         scores += env_info.rewards                         # update the score (for each agent)\n",
    "#         states = next_states                               # roll over states to next time step\n",
    "#         if np.any(dones):                                  # exit loop if episode finished\n",
    "#             break\n",
    "#     print('Total score (averaged over agents) this episode: {}'.format(np.mean(scores)))"
   ]
  },
  {
   "cell_type": "markdown",
   "metadata": {},
   "source": [
    "When finished, you can close the environment."
   ]
  },
  {
   "cell_type": "code",
   "execution_count": 6,
   "metadata": {},
   "outputs": [],
   "source": [
    "# env.close()"
   ]
  },
  {
   "cell_type": "markdown",
   "metadata": {},
   "source": [
    "### 4. It's Your Turn!\n",
    "\n",
    "Now it's your turn to train your own agent to solve the environment!  A few **important notes**:\n",
    "- When training the environment, set `train_mode=True`, so that the line for resetting the environment looks like the following:\n",
    "```python\n",
    "env_info = env.reset(train_mode=True)[brain_name]\n",
    "```\n",
    "- To structure your work, you're welcome to work directly in this Jupyter notebook, or you might like to start over with a new file!  You can see the list of files in the workspace by clicking on **_Jupyter_** in the top left corner of the notebook.\n",
    "- In this coding environment, you will not be able to watch the agents while they are training.  However, **_after training the agents_**, you can download the saved model weights to watch the agents on your own machine! "
   ]
  },
  {
   "cell_type": "code",
   "execution_count": 7,
   "metadata": {},
   "outputs": [],
   "source": [
    "def tennis_ddpg(agent, n_episodes=500, max_t=300, print_every=10, target_score=30):\n",
    "\n",
    "    max_scores = []\n",
    "    scores_window = deque(maxlen=100)\n",
    "    scores_deque = deque(maxlen=print_every)\n",
    "    for i_episode in range(1, n_episodes+1):\n",
    "        \n",
    "        \n",
    "        env_info = env.reset(train_mode=False)[brain_name]     # reset the environment    \n",
    "        states = env_info.vector_observations\n",
    "        scores = np.zeros(num_agents)\n",
    "        \n",
    "        \n",
    "        agent.reset()\n",
    "        for t in range(max_t):\n",
    "\n",
    "            actions = agent.act(states, add_noise=True)\n",
    "            \n",
    "\n",
    "            # print(f\"\\r{np.array_equal(((action > -1) & (action < 1)), np.array([True] * 4))}\", end=\"\")\n",
    "#             action = np.clip(action, -1, 1)\n",
    "\n",
    "            env_info = env.step(actions)[brain_name]\n",
    "\n",
    "            rewards = env_info.rewards\n",
    "            dones = env_info.local_done\n",
    "            next_states = env_info.vector_observations\n",
    "            \n",
    "            for state, action, reward, next_state, done in zip(states, actions, rewards,next_states,dones):\n",
    "                agent.step(state, action, reward, next_state, done)\n",
    "\n",
    "            # print('\\rReward - {}'.format(reward), end=\"\")\n",
    "            states = next_states\n",
    "            scores += rewards\n",
    "            if np.any(dones):\n",
    "                break\n",
    "        scores_deque.append(np.max(scores))\n",
    "        scores_window.append(np.max(scores))\n",
    "        max_scores.append(np.max(scores))\n",
    "        # break\n",
    "\n",
    "#         print('\\rEpisode {}\\tScore this episode: {:.2f}'.format(i_episode, score), end=\"\")\n",
    "        print('\\rEpisode {}\\tScore this episode: {:.2f}'.format(i_episode, np.max(scores)), end=\"\")\n",
    "        if i_episode % print_every == 0:\n",
    "            print('\\rEpisode {}\\tAverage Score of last 10 episode: {:.2f}\\tMax score till now: {:.2f}'.format(i_episode, np.mean(scores_deque), max(max_scores)))\n",
    "        if np.mean(scores_window) >= target_score:\n",
    "            print('\\nEnvironment solved in {:d} episodes!\\tAverage Score: {:.2f}'.format(i_episode-100, np.mean(scores_window)))\n",
    "            torch.save(agent.actor_local.state_dict(), 'checkpoint_actor.pth')\n",
    "            torch.save(agent.critic_local.state_dict(), 'checkpoint_critic.pth')\n",
    "            break\n",
    "\n",
    "    return max_scores"
   ]
  },
  {
   "cell_type": "code",
   "execution_count": 11,
   "metadata": {},
   "outputs": [
    {
     "name": "stdout",
     "output_type": "stream",
     "text": [
      "Using device as - cuda:0\n",
      "Using hyperparameters - \n",
      "BUFFER_SIZE = 100000\n",
      "BATCH_SIZE = 128\n",
      "GAMMA = 0.99\n",
      "TAU = 0.001\n",
      "LR_ACTOR = 0.0001\n",
      "LR_CRITIC = 0.001\n",
      "WEIGHT_DECAY = 1e-06\n",
      "UPDATE_EVERY = 1\n",
      "EPSILON_DECAY = 1e-06\n",
      "EPS_START = 1.0\n",
      "EPS_END = 0\n",
      "EPS = 1.0\n"
     ]
    }
   ],
   "source": [
    "agent = Agent(state_size=24, action_size=2, random_seed=0, fc1_units=128, fc2_units=128, fcs1_units=128)"
   ]
  },
  {
   "cell_type": "code",
   "execution_count": 12,
   "metadata": {},
   "outputs": [
    {
     "name": "stdout",
     "output_type": "stream",
     "text": [
      "Episode 10\tAverage Score of last 10 episode: 0.01\tMax score till now: 0.10\n",
      "Episode 20\tAverage Score of last 10 episode: 0.01\tMax score till now: 0.10\n",
      "Episode 30\tAverage Score of last 10 episode: 0.00\tMax score till now: 0.10\n",
      "Episode 40\tAverage Score of last 10 episode: 0.01\tMax score till now: 0.10\n",
      "Episode 50\tAverage Score of last 10 episode: 0.02\tMax score till now: 0.10\n",
      "Episode 60\tAverage Score of last 10 episode: 0.00\tMax score till now: 0.10\n",
      "Episode 70\tAverage Score of last 10 episode: 0.00\tMax score till now: 0.10\n",
      "Episode 80\tAverage Score of last 10 episode: 0.01\tMax score till now: 0.10\n",
      "Episode 90\tAverage Score of last 10 episode: 0.00\tMax score till now: 0.10\n",
      "Episode 100\tAverage Score of last 10 episode: 0.03\tMax score till now: 0.10\n",
      "Episode 110\tAverage Score of last 10 episode: 0.05\tMax score till now: 0.10\n",
      "Episode 120\tAverage Score of last 10 episode: 0.04\tMax score till now: 0.10\n",
      "Episode 130\tAverage Score of last 10 episode: 0.08\tMax score till now: 0.10\n",
      "Episode 140\tAverage Score of last 10 episode: 0.05\tMax score till now: 0.10\n",
      "Episode 150\tAverage Score of last 10 episode: 0.00\tMax score till now: 0.10\n",
      "Episode 160\tAverage Score of last 10 episode: 0.05\tMax score till now: 0.10\n",
      "Episode 170\tAverage Score of last 10 episode: 0.01\tMax score till now: 0.10\n",
      "Episode 180\tAverage Score of last 10 episode: 0.04\tMax score till now: 0.10\n",
      "Episode 190\tAverage Score of last 10 episode: 0.06\tMax score till now: 0.10\n",
      "Episode 200\tAverage Score of last 10 episode: 0.06\tMax score till now: 0.10\n",
      "Episode 210\tAverage Score of last 10 episode: 0.09\tMax score till now: 0.10\n",
      "Episode 220\tAverage Score of last 10 episode: 0.10\tMax score till now: 0.20\n",
      "Episode 230\tAverage Score of last 10 episode: 0.10\tMax score till now: 0.20\n",
      "Episode 240\tAverage Score of last 10 episode: 0.07\tMax score till now: 0.20\n",
      "Episode 250\tAverage Score of last 10 episode: 0.11\tMax score till now: 0.20\n",
      "Episode 260\tAverage Score of last 10 episode: 0.20\tMax score till now: 0.50\n",
      "Episode 270\tAverage Score of last 10 episode: 0.30\tMax score till now: 1.10\n",
      "Episode 280\tAverage Score of last 10 episode: 0.16\tMax score till now: 1.10\n",
      "Episode 290\tAverage Score of last 10 episode: 0.14\tMax score till now: 1.10\n",
      "Episode 300\tAverage Score of last 10 episode: 0.13\tMax score till now: 1.10\n",
      "Episode 310\tAverage Score of last 10 episode: 0.20\tMax score till now: 1.10\n",
      "Episode 320\tAverage Score of last 10 episode: 0.20\tMax score till now: 1.10\n",
      "Episode 330\tAverage Score of last 10 episode: 0.26\tMax score till now: 1.10\n",
      "Episode 340\tAverage Score of last 10 episode: 0.28\tMax score till now: 1.10\n",
      "Episode 350\tAverage Score of last 10 episode: 0.68\tMax score till now: 1.70\n",
      "Episode 360\tAverage Score of last 10 episode: 0.34\tMax score till now: 1.70\n",
      "Episode 370\tAverage Score of last 10 episode: 0.40\tMax score till now: 1.70\n",
      "Episode 380\tAverage Score of last 10 episode: 0.66\tMax score till now: 1.70\n",
      "Episode 390\tAverage Score of last 10 episode: 0.36\tMax score till now: 1.70\n",
      "Episode 400\tAverage Score of last 10 episode: 0.34\tMax score till now: 1.70\n",
      "Episode 410\tAverage Score of last 10 episode: 0.71\tMax score till now: 1.90\n",
      "Episode 420\tAverage Score of last 10 episode: 0.56\tMax score till now: 1.90\n",
      "Episode 428\tScore this episode: 0.90\n",
      "Environment solved in 328 episodes!\tAverage Score: 0.51\n"
     ]
    }
   ],
   "source": [
    "max_scores = tennis_ddpg(agent, max_t=1000, n_episodes=2000, print_every=10, target_score=0.5)"
   ]
  },
  {
   "cell_type": "code",
   "execution_count": 13,
   "metadata": {},
   "outputs": [
    {
     "data": {
      "image/png": "[encoded data removed]",
      "text/plain": [
       "<matplotlib.figure.Figure at 0x7fcd86c84358>"
      ]
     },
     "metadata": {
      "needs_background": "light"
     },
     "output_type": "display_data"
    }
   ],
   "source": [
    "fig = plt.figure()\n",
    "ax = fig.add_subplot(111)\n",
    "plt.plot(np.arange(1, len(max_scores)+1), max_scores)\n",
    "plt.ylabel('Score')\n",
    "plt.xlabel('Episode #')\n",
    "plt.show()"
   ]
  },
  {
   "cell_type": "markdown",
   "metadata": {},
   "source": [
    "# Run a smart agent"
   ]
  },
  {
   "cell_type": "code",
   "execution_count": null,
   "metadata": {},
   "outputs": [],
   "source": [
    "# reset the environment\n",
    "env_info = env.reset(train_mode=False)[brain_name]"
   ]
  },
  {
   "cell_type": "code",
   "execution_count": null,
   "metadata": {},
   "outputs": [],
   "source": [
    "agent = Agent(state_size=24, action_size=2, random_seed=0, fc1_units=128, fc2_units=128, fcs1_units=128)\n",
    "\n",
    "\n",
    "### load weights ####\n",
    "actor_dict = torch.load('./data/checkpoint_actor.pth', map_location={'cuda:0': 'cpu'})\n",
    "critic_dict = torch.load('./data/checkpoint_critic.pth', map_location={'cuda:0': 'cpu'})\n",
    "\n",
    "agent.actor_local.load_state_dict(actor_dict)\n",
    "agent.actor_target.load_state_dict(actor_dict)\n",
    "\n",
    "agent.critic_local.load_state_dict(critic_dict)\n",
    "agent.critic_target.load_state_dict(critic_dict)\n",
    "\n",
    "\n",
    "####################\n",
    "\n",
    "env_info = env.reset(train_mode=False)[brain_name]     # reset the environment    \n",
    "states = env_info.vector_observations\n",
    "scores = np.zeros(num_agents)\n",
    "        \n",
    "agent.reset() # set the noise to zero\n",
    "\n",
    "for t in range(1000):\n",
    "    actions = agent.act(states, add_noise=False)\n",
    "\n",
    "    env_info = env.step(actions)[brain_name]\n",
    "    rewards = env_info.rewards\n",
    "    dones = env_info.local_done\n",
    "    next_states = env_info.vector_observations\n",
    "    \n",
    "    for state, action, reward, next_state, done in zip(states, actions, rewards,next_states,dones):\n",
    "        agent.step(state, action, reward, next_state, done)\n",
    "\n",
    "    # print('\\rReward - {}'.format(reward), end=\"\")\n",
    "    states = next_states\n",
    "    scores += rewards\n",
    "    if np.any(dones):\n",
    "        break\n",
    "\n",
    "env.close()\n",
    "print('Total score (averaged over agents) this episode: {}'.format(np.mean(scores)))"
   ]
  },
  {
   "cell_type": "code",
   "execution_count": null,
   "metadata": {},
   "outputs": [],
   "source": []
  }
 ],
 "metadata": {
  "kernelspec": {
   "display_name": "Python 3",
   "language": "python",
   "name": "python3"
  },
  "language_info": {
   "codemirror_mode": {
    "name": "ipython",
    "version": 3
   },
   "file_extension": ".py",
   "mimetype": "text/x-python",
   "name": "python",
   "nbconvert_exporter": "python",
   "pygments_lexer": "ipython3",
   "version": "3.6.3"
  }
 },
 "nbformat": 4,
 "nbformat_minor": 2
}
